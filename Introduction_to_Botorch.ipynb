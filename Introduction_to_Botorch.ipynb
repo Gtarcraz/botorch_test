{
  "nbformat": 4,
  "nbformat_minor": 0,
  "metadata": {
    "kernelspec": {
      "name": "python3",
      "display_name": "Python 3",
      "language": "python"
    },
    "language_info": {
      "name": "python",
      "version": "3.7.6",
      "mimetype": "text/x-python",
      "codemirror_mode": {
        "name": "ipython",
        "version": 3
      },
      "pygments_lexer": "ipython3",
      "nbconvert_exporter": "python",
      "file_extension": ".py"
    },
    "colab": {
      "name": "Introduction_to_Botorch.ipynb",
      "provenance": []
    }
  },
  "cells": [
    {
      "cell_type": "markdown",
      "metadata": {
        "id": "F_wEfJ_FcN9c",
        "colab_type": "text"
      },
      "source": [
        "# BoTorch Tutorials"
      ]
    },
    {
      "cell_type": "markdown",
      "metadata": {
        "id": "Wu2gzuRGcN9d",
        "colab_type": "text"
      },
      "source": [
        "The following information is summarised from the main BoTorch website.\n",
        "https://botorch.org/docs/introduction.html\n",
        "\n",
        "I have decided to summarise it to extract the core information from the documents to get started.\n"
      ]
    },
    {
      "cell_type": "markdown",
      "metadata": {
        "id": "LzWdvPY7cN9e",
        "colab_type": "text"
      },
      "source": [
        "## Introduction to BoTorch\n",
        "\n",
        "BoTorch is a library for Bayesian Optimisation research built on top of PyTorch. \n",
        "\n",
        "Bayesian Optimisation (BayesOpt) is an established technique for sequential optimisation of costly-to-evaluate black box functions. It can be applied to a wide variety of problems, including hyperparameter optimisation for machine learning algorithms, A/B testing, as well as many scientific and engineering problems."
      ]
    },
    {
      "cell_type": "markdown",
      "metadata": {
        "id": "Bj26AxhOcN9f",
        "colab_type": "text"
      },
      "source": [
        "## Why Botorch?\n",
        "\n",
        "1. Improved Developer Efficiency\n",
        "--> Modular and easily extensible interface for composing Bayesian Optimisation primitives (include probabilitic mdels, acquisition functions and optimisers).\n",
        "--> Utilise quasi-Monte-Carlo acquisition functions\n",
        "\n",
        "2. State-of-the-art Modelling\n",
        "--> Provide support for state-of-the-art probabilisitc models in GPyTorch (Library for efficient, scalable Gaussian Process implemented in PyTorch).\n",
        "--> Features include multi-task GPs, deep kernel learning, deep GPs, and approximate inference\n",
        "\n",
        "3. Harnessing the features of PyTorch\n",
        "--> Auto-differentiation, GPU implementations and dynamic computation graph \n",
        "\n"
      ]
    },
    {
      "cell_type": "markdown",
      "metadata": {
        "id": "1DRNZGUccN9f",
        "colab_type": "text"
      },
      "source": [
        "# Simple Programme to get started"
      ]
    },
    {
      "cell_type": "code",
      "metadata": {
        "trusted": true,
        "id": "O0VRs_g9cN9g",
        "colab_type": "code",
        "colab": {},
        "outputId": "bd5d7c3f-63eb-4e95-b0ab-ad0dc6671d67"
      },
      "source": [
        "# ===============\n",
        "# Install BoTorch\n",
        "# ===============\n",
        "\n",
        "# Via conda\n",
        "# conda install botorch -c pytorch -c gpytorch\n",
        "\n",
        "# Via pip\n",
        "!pip install botorch"
      ],
      "execution_count": 0,
      "outputs": [
        {
          "output_type": "stream",
          "text": [
            "Collecting botorch\n",
            "  Downloading botorch-0.2.5-py3-none-any.whl (263 kB)\n",
            "\u001b[K     |████████████████████████████████| 263 kB 4.1 MB/s eta 0:00:01\n",
            "\u001b[?25hCollecting torch>=1.4\n",
            "  Downloading torch-1.5.0-cp37-cp37m-manylinux1_x86_64.whl (752.0 MB)\n",
            "\u001b[K     |████████████████████████████████| 752.0 MB 10 kB/s s eta 0:00:01   |█▎                              | 30.2 MB 8.1 MB/s eta 0:01:30     |██▍                             | 56.1 MB 56.3 MB/s eta 0:00:13     |████▊                           | 111.3 MB 57.0 MB/s eta 0:00:12     |█████▋                          | 132.9 MB 42.3 MB/s eta 0:00:15     |███████▎                        | 171.0 MB 44.3 MB/s eta 0:00:14     |██████████████████              | 424.8 MB 30.9 MB/s eta 0:00:11     |███████████████████████████▏    | 638.3 MB 45.9 MB/s eta 0:00:03     |████████████████████████████▊   | 675.8 MB 43.0 MB/s eta 0:00:02     |█████████████████████████████▎  | 689.2 MB 43.0 MB/s eta 0:00:02     |█████████████████████████████▊  | 699.3 MB 31.5 MB/s eta 0:00:02\n",
            "\u001b[?25hCollecting gpytorch>=1.1.1\n",
            "  Downloading gpytorch-1.1.1.tar.gz (240 kB)\n",
            "\u001b[K     |████████████████████████████████| 240 kB 29.6 MB/s eta 0:00:01\n",
            "\u001b[?25hCollecting scipy\n",
            "  Downloading scipy-1.4.1-cp37-cp37m-manylinux1_x86_64.whl (26.1 MB)\n",
            "\u001b[K     |████████████████████████████████| 26.1 MB 33.4 MB/s eta 0:00:01\n",
            "\u001b[?25hCollecting numpy\n",
            "  Downloading numpy-1.18.5-cp37-cp37m-manylinux1_x86_64.whl (20.1 MB)\n",
            "\u001b[K     |████████████████████████████████| 20.1 MB 39.4 MB/s eta 0:00:01\n",
            "\u001b[?25hCollecting future\n",
            "  Downloading future-0.18.2.tar.gz (829 kB)\n",
            "\u001b[K     |████████████████████████████████| 829 kB 42.4 MB/s eta 0:00:01\n",
            "\u001b[?25hBuilding wheels for collected packages: gpytorch, future\n",
            "  Building wheel for gpytorch (setup.py) ... \u001b[?25ldone\n",
            "\u001b[?25h  Created wheel for gpytorch: filename=gpytorch-1.1.1-py2.py3-none-any.whl size=400477 sha256=0f4923fc65dcc24e44e7b250aafb78a5e783ccb843a58134cec27ff78cb2388f\n",
            "  Stored in directory: /home/jovyan/.cache/pip/wheels/96/d6/5d/da219e96d14332c33127bef24e9827a49fd174200cae967dce\n",
            "  Building wheel for future (setup.py) ... \u001b[?25ldone\n",
            "\u001b[?25h  Created wheel for future: filename=future-0.18.2-py3-none-any.whl size=491058 sha256=84302d1fcf1c3cd8fb374984acdc9f0471533485392f1605d3d3888df8c6aff0\n",
            "  Stored in directory: /home/jovyan/.cache/pip/wheels/56/b0/fe/4410d17b32f1f0c3cf54cdfb2bc04d7b4b8f4ae377e2229ba0\n",
            "Successfully built gpytorch future\n",
            "Installing collected packages: numpy, future, torch, gpytorch, scipy, botorch\n",
            "Successfully installed botorch-0.2.5 future-0.18.2 gpytorch-1.1.1 numpy-1.18.5 scipy-1.4.1 torch-1.5.0\n"
          ],
          "name": "stdout"
        }
      ]
    },
    {
      "cell_type": "code",
      "metadata": {
        "trusted": true,
        "id": "FMupZBePcN9l",
        "colab_type": "code",
        "colab": {},
        "outputId": "070df746-e177-4db3-cad4-adf42d981bcb"
      },
      "source": [
        "# ===============\n",
        "# Fitting a Model\n",
        "# ===============\n",
        "\n",
        "import torch\n",
        "from botorch.models import SingleTaskGP\n",
        "from botorch.fit import fit_gpytorch_model\n",
        "from botorch.utils import standardize\n",
        "from gpytorch.mlls import ExactMarginalLogLikelihood\n",
        "\n",
        "\n",
        "# Create training set\n",
        "train_X = torch.rand(10,2)  # Create random matrix 10 rows x 2 columns\n",
        "print(\"Training X \\n\\f\\n\", train_X)\n",
        "Y = 1 - torch.norm(train_X-0.5,dim=-1,keepdim=True) # Generate Y\n",
        "print(\"\\nY\\n\\f\\n\", Y)\n",
        "Y = Y + 0.1*torch.randn_like(Y)  # Add some noise\n",
        "print(\"\\nY with noise\\n\\f\\n\", Y)\n",
        "train_Y = standardize(Y) # Stadardisation of Y for training\n",
        "\n",
        "gp = SingleTaskGP(train_X,train_Y)\n",
        "mll = ExactMarginalLogLikelihood(gp.likelihood,gp)\n",
        "fit_gpytorch_model(mll)"
      ],
      "execution_count": 0,
      "outputs": [
        {
          "output_type": "stream",
          "text": [
            "Training X \n",
            "\f\n",
            " tensor([[0.5450, 0.1751],\n",
            "        [0.7470, 0.1939],\n",
            "        [0.0198, 0.5851],\n",
            "        [0.3032, 0.4526],\n",
            "        [0.0116, 0.1795],\n",
            "        [0.6036, 0.7312],\n",
            "        [0.7514, 0.9459],\n",
            "        [0.5687, 0.8204],\n",
            "        [0.5119, 0.9591],\n",
            "        [0.3701, 0.0635]])\n",
            "\n",
            "Y\n",
            "\f\n",
            " tensor([[0.6720],\n",
            "        [0.6067],\n",
            "        [0.5123],\n",
            "        [0.7975],\n",
            "        [0.4158],\n",
            "        [0.7466],\n",
            "        [0.4881],\n",
            "        [0.6723],\n",
            "        [0.5407],\n",
            "        [0.5446]])\n",
            "\n",
            "Y with noise\n",
            "\f\n",
            " tensor([[0.5500],\n",
            "        [0.6825],\n",
            "        [0.6246],\n",
            "        [0.9200],\n",
            "        [0.4162],\n",
            "        [0.8406],\n",
            "        [0.4874],\n",
            "        [0.5460],\n",
            "        [0.5578],\n",
            "        [0.6025]])\n"
          ],
          "name": "stdout"
        }
      ]
    },
    {
      "cell_type": "code",
      "metadata": {
        "trusted": true,
        "id": "W-iR3Z6LcN9n",
        "colab_type": "code",
        "colab": {}
      },
      "source": [
        ""
      ],
      "execution_count": 0,
      "outputs": []
    }
  ]
}