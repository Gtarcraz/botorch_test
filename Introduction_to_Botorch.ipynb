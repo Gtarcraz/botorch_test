{
 "cells": [
  {
   "cell_type": "markdown",
   "metadata": {},
   "source": [
    "# BoTorch Tutorials"
   ]
  },
  {
   "cell_type": "markdown",
   "metadata": {},
   "source": [
    "The following information is summarised from BoTorch website.\n",
    "https://botorch.org/docs/introduction.html\n",
    "\n",
    "You can revisit the binder link via:\n",
    "https://gesis.mybinder.org/binder/v2/gh/Gtarcraz/botorch_test/6142d100ae4e9fb8c2b3a3602ecb11ba446888af\n"
   ]
  },
  {
   "cell_type": "markdown",
   "metadata": {},
   "source": [
    "## Introduction to BoTorch\n",
    "\n",
    "BoTorch is a library for Bayesian Optimisation research built on top of PyTorch. \n",
    "\n",
    "Bayesian Optimisation (BayesOpt) is an established technique for sequential optimisation of costly-to-evaluate black box functions. It can be applied to a wide variety of problems, including hyperparameter optimisation for machine learning algorithms, A/B testing, as well as many scientific and engineering problems."
   ]
  },
  {
   "cell_type": "markdown",
   "metadata": {},
   "source": [
    "## Why Botorch?\n",
    "\n",
    "1. Improved Developer Efficiency\n",
    "--> Modular and easily extensible interface for composing Bayesian Optimisation primitives (include probabilitic mdels, acquisition functions and optimisers."
   ]
  }
 ],
 "metadata": {
  "kernelspec": {
   "display_name": "Python 3",
   "language": "python",
   "name": "python3"
  },
  "language_info": {
   "codemirror_mode": {
    "name": "ipython",
    "version": 3
   },
   "file_extension": ".py",
   "mimetype": "text/x-python",
   "name": "python",
   "nbconvert_exporter": "python",
   "pygments_lexer": "ipython3",
   "version": "3.7.6"
  }
 },
 "nbformat": 4,
 "nbformat_minor": 4
}
