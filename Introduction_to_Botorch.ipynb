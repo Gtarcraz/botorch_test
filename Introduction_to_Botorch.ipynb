{
  "nbformat": 4,
  "nbformat_minor": 0,
  "metadata": {
    "kernelspec": {
      "name": "python3",
      "display_name": "Python 3",
      "language": "python"
    },
    "language_info": {
      "name": "python",
      "version": "3.7.6",
      "mimetype": "text/x-python",
      "codemirror_mode": {
        "name": "ipython",
        "version": 3
      },
      "pygments_lexer": "ipython3",
      "nbconvert_exporter": "python",
      "file_extension": ".py"
    },
    "colab": {
      "name": "Introduction_to_Botorch.ipynb",
      "provenance": [],
      "include_colab_link": true
    }
  },
  "cells": [
    {
      "cell_type": "markdown",
      "metadata": {
        "id": "view-in-github",
        "colab_type": "text"
      },
      "source": [
        "<a href=\"https://colab.research.google.com/github/Gtarcraz/botorch_test/blob/master/Introduction_to_Botorch.ipynb\" target=\"_parent\"><img src=\"https://colab.research.google.com/assets/colab-badge.svg\" alt=\"Open In Colab\"/></a>"
      ]
    },
    {
      "cell_type": "markdown",
      "metadata": {
        "id": "F_wEfJ_FcN9c",
        "colab_type": "text"
      },
      "source": [
        "# BoTorch Tutorials"
      ]
    },
    {
      "cell_type": "markdown",
      "metadata": {
        "id": "Wu2gzuRGcN9d",
        "colab_type": "text"
      },
      "source": [
        "The following information is summarised from the main BoTorch website.\n",
        "https://botorch.org/docs/introduction.html\n",
        "\n",
        "I have decided to summarise it to extract the core information from the documents to get started.\n"
      ]
    },
    {
      "cell_type": "markdown",
      "metadata": {
        "id": "LzWdvPY7cN9e",
        "colab_type": "text"
      },
      "source": [
        "## Introduction to BoTorch\n",
        "\n",
        "BoTorch is a library for Bayesian Optimisation research built on top of PyTorch. \n",
        "\n",
        "Bayesian Optimisation (BayesOpt) is an established technique for sequential optimisation of costly-to-evaluate black box functions. It can be applied to a wide variety of problems, including hyperparameter optimisation for machine learning algorithms, A/B testing, as well as many scientific and engineering problems."
      ]
    },
    {
      "cell_type": "markdown",
      "metadata": {
        "id": "Bj26AxhOcN9f",
        "colab_type": "text"
      },
      "source": [
        "## Why Botorch?\n",
        "\n",
        "1. Improved Developer Efficiency\n",
        "--> Modular and easily extensible interface for composing Bayesian Optimisation primitives (include probabilitic mdels, acquisition functions and optimisers).\n",
        "--> Utilise quasi-Monte-Carlo acquisition functions\n",
        "\n",
        "2. State-of-the-art Modelling\n",
        "--> Provide support for state-of-the-art probabilisitc models in GPyTorch (Library for efficient, scalable Gaussian Process implemented in PyTorch).\n",
        "--> Features include multi-task GPs, deep kernel learning, deep GPs, and approximate inference\n",
        "\n",
        "3. Harnessing the features of PyTorch\n",
        "--> Auto-differentiation, GPU implementations and dynamic computation graph \n",
        "\n"
      ]
    },
    {
      "cell_type": "markdown",
      "metadata": {
        "id": "1DRNZGUccN9f",
        "colab_type": "text"
      },
      "source": [
        "# Simple Programme to get started"
      ]
    },
    {
      "cell_type": "code",
      "metadata": {
        "trusted": true,
        "id": "O0VRs_g9cN9g",
        "colab_type": "code",
        "colab": {
          "base_uri": "https://localhost:8080/",
          "height": 326
        },
        "outputId": "a2d47e87-8aa7-406c-9657-814664a0864f"
      },
      "source": [
        "# ===============\n",
        "# Install BoTorch\n",
        "# ===============\n",
        "\n",
        "# Via conda\n",
        "# conda install botorch -c pytorch -c gpytorch\n",
        "\n",
        "# Via pip\n",
        "!pip install botorch"
      ],
      "execution_count": 1,
      "outputs": [
        {
          "output_type": "stream",
          "text": [
            "Collecting botorch\n",
            "\u001b[?25l  Downloading https://files.pythonhosted.org/packages/64/e4/d696b12a84d505e9592fb6f8458a968b19efc22e30cc517dd2d2817e27e4/botorch-0.2.1-py3-none-any.whl (221kB)\n",
            "\r\u001b[K     |█▌                              | 10kB 18.9MB/s eta 0:00:01\r\u001b[K     |███                             | 20kB 6.8MB/s eta 0:00:01\r\u001b[K     |████▍                           | 30kB 7.9MB/s eta 0:00:01\r\u001b[K     |██████                          | 40kB 8.5MB/s eta 0:00:01\r\u001b[K     |███████▍                        | 51kB 7.1MB/s eta 0:00:01\r\u001b[K     |████████▉                       | 61kB 7.4MB/s eta 0:00:01\r\u001b[K     |██████████▍                     | 71kB 7.9MB/s eta 0:00:01\r\u001b[K     |███████████▉                    | 81kB 8.7MB/s eta 0:00:01\r\u001b[K     |█████████████▎                  | 92kB 8.2MB/s eta 0:00:01\r\u001b[K     |██████████████▉                 | 102kB 8.4MB/s eta 0:00:01\r\u001b[K     |████████████████▎               | 112kB 8.4MB/s eta 0:00:01\r\u001b[K     |█████████████████▊              | 122kB 8.4MB/s eta 0:00:01\r\u001b[K     |███████████████████▎            | 133kB 8.4MB/s eta 0:00:01\r\u001b[K     |████████████████████▊           | 143kB 8.4MB/s eta 0:00:01\r\u001b[K     |██████████████████████▏         | 153kB 8.4MB/s eta 0:00:01\r\u001b[K     |███████████████████████▊        | 163kB 8.4MB/s eta 0:00:01\r\u001b[K     |█████████████████████████▏      | 174kB 8.4MB/s eta 0:00:01\r\u001b[K     |██████████████████████████▋     | 184kB 8.4MB/s eta 0:00:01\r\u001b[K     |████████████████████████████▏   | 194kB 8.4MB/s eta 0:00:01\r\u001b[K     |█████████████████████████████▋  | 204kB 8.4MB/s eta 0:00:01\r\u001b[K     |███████████████████████████████ | 215kB 8.4MB/s eta 0:00:01\r\u001b[K     |████████████████████████████████| 225kB 8.4MB/s \n",
            "\u001b[?25hRequirement already satisfied: scipy in /usr/local/lib/python3.6/dist-packages (from botorch) (1.4.1)\n",
            "Collecting gpytorch>=1.0.0\n",
            "\u001b[?25l  Downloading https://files.pythonhosted.org/packages/5d/c7/0c31802b84fc55aa069943c844eaccb0e420e91d7f4ed07cc5e1d127c458/gpytorch-1.1.1.tar.gz (240kB)\n",
            "\r\u001b[K     |█▍                              | 10kB 22.1MB/s eta 0:00:01\r\u001b[K     |██▊                             | 20kB 13.3MB/s eta 0:00:01\r\u001b[K     |████                            | 30kB 17.9MB/s eta 0:00:01\r\u001b[K     |█████▌                          | 40kB 17.1MB/s eta 0:00:01\r\u001b[K     |██████▉                         | 51kB 15.4MB/s eta 0:00:01\r\u001b[K     |████████▏                       | 61kB 17.6MB/s eta 0:00:01\r\u001b[K     |█████████▌                      | 71kB 15.8MB/s eta 0:00:01\r\u001b[K     |███████████                     | 81kB 17.4MB/s eta 0:00:01\r\u001b[K     |████████████▎                   | 92kB 17.2MB/s eta 0:00:01\r\u001b[K     |█████████████▋                  | 102kB 14.4MB/s eta 0:00:01\r\u001b[K     |███████████████                 | 112kB 14.4MB/s eta 0:00:01\r\u001b[K     |████████████████▍               | 122kB 14.4MB/s eta 0:00:01\r\u001b[K     |█████████████████▊              | 133kB 14.4MB/s eta 0:00:01\r\u001b[K     |███████████████████             | 143kB 14.4MB/s eta 0:00:01\r\u001b[K     |████████████████████▌           | 153kB 14.4MB/s eta 0:00:01\r\u001b[K     |█████████████████████▉          | 163kB 14.4MB/s eta 0:00:01\r\u001b[K     |███████████████████████▏        | 174kB 14.4MB/s eta 0:00:01\r\u001b[K     |████████████████████████▌       | 184kB 14.4MB/s eta 0:00:01\r\u001b[K     |██████████████████████████      | 194kB 14.4MB/s eta 0:00:01\r\u001b[K     |███████████████████████████▎    | 204kB 14.4MB/s eta 0:00:01\r\u001b[K     |████████████████████████████▋   | 215kB 14.4MB/s eta 0:00:01\r\u001b[K     |██████████████████████████████  | 225kB 14.4MB/s eta 0:00:01\r\u001b[K     |███████████████████████████████▍| 235kB 14.4MB/s eta 0:00:01\r\u001b[K     |████████████████████████████████| 245kB 14.4MB/s \n",
            "\u001b[?25hRequirement already satisfied: torch>=1.3.1 in /usr/local/lib/python3.6/dist-packages (from botorch) (1.5.0+cu101)\n",
            "Requirement already satisfied: numpy>=1.13.3 in /usr/local/lib/python3.6/dist-packages (from scipy->botorch) (1.18.5)\n",
            "Requirement already satisfied: future in /usr/local/lib/python3.6/dist-packages (from torch>=1.3.1->botorch) (0.16.0)\n",
            "Building wheels for collected packages: gpytorch\n",
            "  Building wheel for gpytorch (setup.py) ... \u001b[?25l\u001b[?25hdone\n",
            "  Created wheel for gpytorch: filename=gpytorch-1.1.1-py2.py3-none-any.whl size=400467 sha256=69c31a85387f48ab60cd0be642d3a40b7eef8ed5f2eb0b505c0825f9d31fdc9d\n",
            "  Stored in directory: /root/.cache/pip/wheels/e5/a5/29/4dafc0624adf678108e0067836556f0c72588e85d851d78ae0\n",
            "Successfully built gpytorch\n",
            "Installing collected packages: gpytorch, botorch\n",
            "Successfully installed botorch-0.2.1 gpytorch-1.1.1\n"
          ],
          "name": "stdout"
        }
      ]
    },
    {
      "cell_type": "code",
      "metadata": {
        "trusted": true,
        "id": "FMupZBePcN9l",
        "colab_type": "code",
        "colab": {
          "base_uri": "https://localhost:8080/",
          "height": 1000
        },
        "outputId": "376190ac-31ce-45c2-fa64-492c2193a0e7"
      },
      "source": [
        "# ===============\n",
        "# Fitting a Model\n",
        "# ===============\n",
        "\n",
        "import torch\n",
        "from botorch.models import SingleTaskGP\n",
        "from botorch.fit import fit_gpytorch_model\n",
        "from botorch.utils import standardize\n",
        "from gpytorch.mlls import ExactMarginalLogLikelihood\n",
        "\n",
        "\n",
        "# Create training set\n",
        "train_X = torch.rand(10,2)  # Create random matrix 10 rows x 2 columns\n",
        "print(\"Training X \\n\\f\\n\", train_X)\n",
        "Y = 1-torch.norm(train_X,dim=-1,keepdim=True) # Generate Y = 1-sqrt(X1^2+X2^2)\n",
        "print(\"\\nY\\n\\f\\n\", Y)\n",
        "Y = Y + 0.1*torch.randn_like(Y)  # Add some noise (Size of Y)\n",
        "print(\"\\nY with noise\\n\\f\\n\", Y)\n",
        "train_Y = standardize(Y) # Stadardisation of Y for training\n",
        "\n",
        "gp = SingleTaskGP(train_X,train_Y)\n",
        "mll = ExactMarginalLogLikelihood(gp.likelihood,gp)\n",
        "fit_gpytorch_model(mll)"
      ],
      "execution_count": 3,
      "outputs": [
        {
          "output_type": "stream",
          "text": [
            "Training X \n",
            "\f\n",
            " tensor([[0.8223, 0.1913],\n",
            "        [0.7043, 0.2498],\n",
            "        [0.9731, 0.0981],\n",
            "        [0.0613, 0.0958],\n",
            "        [0.1632, 0.7125],\n",
            "        [0.6452, 0.9783],\n",
            "        [0.4497, 0.3366],\n",
            "        [0.9503, 0.8316],\n",
            "        [0.0662, 0.3149],\n",
            "        [0.9382, 0.1787]])\n",
            "\n",
            "Y\n",
            "\f\n",
            " tensor([[0.8442],\n",
            "        [0.7473],\n",
            "        [0.9781],\n",
            "        [0.1137],\n",
            "        [0.7310],\n",
            "        [1.1719],\n",
            "        [0.5617],\n",
            "        [1.2628],\n",
            "        [0.3218],\n",
            "        [0.9550]])\n",
            "\n",
            "Y with noise\n",
            "\f\n",
            " tensor([[0.8394],\n",
            "        [0.6034],\n",
            "        [0.8910],\n",
            "        [0.0109],\n",
            "        [0.7117],\n",
            "        [1.3695],\n",
            "        [0.4605],\n",
            "        [1.3722],\n",
            "        [0.2963],\n",
            "        [1.1272]])\n"
          ],
          "name": "stdout"
        },
        {
          "output_type": "execute_result",
          "data": {
            "text/plain": [
              "ExactMarginalLogLikelihood(\n",
              "  (likelihood): GaussianLikelihood(\n",
              "    (noise_covar): HomoskedasticNoise(\n",
              "      (noise_prior): GammaPrior()\n",
              "      (raw_noise_constraint): GreaterThan(1.000E-04)\n",
              "    )\n",
              "  )\n",
              "  (model): SingleTaskGP(\n",
              "    (likelihood): GaussianLikelihood(\n",
              "      (noise_covar): HomoskedasticNoise(\n",
              "        (noise_prior): GammaPrior()\n",
              "        (raw_noise_constraint): GreaterThan(1.000E-04)\n",
              "      )\n",
              "    )\n",
              "    (mean_module): ConstantMean()\n",
              "    (covar_module): ScaleKernel(\n",
              "      (base_kernel): MaternKernel(\n",
              "        (lengthscale_prior): GammaPrior()\n",
              "        (raw_lengthscale_constraint): Positive()\n",
              "        (distance_module): Distance()\n",
              "      )\n",
              "      (outputscale_prior): GammaPrior()\n",
              "      (raw_outputscale_constraint): Positive()\n",
              "    )\n",
              "  )\n",
              ")"
            ]
          },
          "metadata": {
            "tags": []
          },
          "execution_count": 3
        }
      ]
    },
    {
      "cell_type": "code",
      "metadata": {
        "trusted": true,
        "id": "W-iR3Z6LcN9n",
        "colab_type": "code",
        "colab": {}
      },
      "source": [
        ""
      ],
      "execution_count": 0,
      "outputs": []
    }
  ]
}